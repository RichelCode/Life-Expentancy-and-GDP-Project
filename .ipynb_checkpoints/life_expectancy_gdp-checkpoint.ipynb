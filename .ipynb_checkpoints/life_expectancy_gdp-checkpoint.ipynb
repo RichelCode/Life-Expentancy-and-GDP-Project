{
 "cells": [
  {
   "cell_type": "markdown",
   "metadata": {},
   "source": [
    "# Visualizing the Relationship Between GDP and Life Expectancy\n",
    "\n",
    "# Introduction\n",
    "This project showcases an in-depth data visualization analysis of the relationship between GDP and life expectancy at birth across countries and years. Using Python's powerful data visualization libraries, this portfolio project demonstrates:\n",
    "- Trends and patterns over time.\n",
    "- Regional disparities.\n",
    "- Insights into global development.\n"
   ]
  },
  {
   "cell_type": "markdown",
   "metadata": {},
   "source": [
    "# Loading our Dataset"
   ]
  },
  {
   "cell_type": "code",
   "execution_count": 48,
   "metadata": {},
   "outputs": [],
   "source": [
    "import pandas as pd\n",
    "import matplotlib.pyplot as plt\n",
    "import seaborn as sns\n",
    "import numpy as np"
   ]
  },
  {
   "cell_type": "code",
   "execution_count": 4,
   "metadata": {},
   "outputs": [
    {
     "data": {
      "text/html": [
       "<div>\n",
       "<style scoped>\n",
       "    .dataframe tbody tr th:only-of-type {\n",
       "        vertical-align: middle;\n",
       "    }\n",
       "\n",
       "    .dataframe tbody tr th {\n",
       "        vertical-align: top;\n",
       "    }\n",
       "\n",
       "    .dataframe thead th {\n",
       "        text-align: right;\n",
       "    }\n",
       "</style>\n",
       "<table border=\"1\" class=\"dataframe\">\n",
       "  <thead>\n",
       "    <tr style=\"text-align: right;\">\n",
       "      <th></th>\n",
       "      <th>Country</th>\n",
       "      <th>Year</th>\n",
       "      <th>Life expectancy at birth (years)</th>\n",
       "      <th>GDP</th>\n",
       "    </tr>\n",
       "  </thead>\n",
       "  <tbody>\n",
       "    <tr>\n",
       "      <th>0</th>\n",
       "      <td>Chile</td>\n",
       "      <td>2000</td>\n",
       "      <td>77.3</td>\n",
       "      <td>7.786093e+10</td>\n",
       "    </tr>\n",
       "    <tr>\n",
       "      <th>1</th>\n",
       "      <td>Chile</td>\n",
       "      <td>2001</td>\n",
       "      <td>77.3</td>\n",
       "      <td>7.097992e+10</td>\n",
       "    </tr>\n",
       "    <tr>\n",
       "      <th>2</th>\n",
       "      <td>Chile</td>\n",
       "      <td>2002</td>\n",
       "      <td>77.8</td>\n",
       "      <td>6.973681e+10</td>\n",
       "    </tr>\n",
       "    <tr>\n",
       "      <th>3</th>\n",
       "      <td>Chile</td>\n",
       "      <td>2003</td>\n",
       "      <td>77.9</td>\n",
       "      <td>7.564346e+10</td>\n",
       "    </tr>\n",
       "    <tr>\n",
       "      <th>4</th>\n",
       "      <td>Chile</td>\n",
       "      <td>2004</td>\n",
       "      <td>78.0</td>\n",
       "      <td>9.921039e+10</td>\n",
       "    </tr>\n",
       "  </tbody>\n",
       "</table>\n",
       "</div>"
      ],
      "text/plain": [
       "  Country  Year  Life expectancy at birth (years)           GDP\n",
       "0   Chile  2000                              77.3  7.786093e+10\n",
       "1   Chile  2001                              77.3  7.097992e+10\n",
       "2   Chile  2002                              77.8  6.973681e+10\n",
       "3   Chile  2003                              77.9  7.564346e+10\n",
       "4   Chile  2004                              78.0  9.921039e+10"
      ]
     },
     "execution_count": 4,
     "metadata": {},
     "output_type": "execute_result"
    }
   ],
   "source": [
    "life_df = pd.read_csv(\"C:\\\\Users\\\\EWURA\\\\Desktop\\\\Life-Expectancy-and-GDP-Starter\\\\all_data.csv\")\n",
    "life_df.head()"
   ]
  },
  {
   "cell_type": "code",
   "execution_count": 5,
   "metadata": {},
   "outputs": [
    {
     "name": "stdout",
     "output_type": "stream",
     "text": [
      "<class 'pandas.core.frame.DataFrame'>\n",
      "RangeIndex: 96 entries, 0 to 95\n",
      "Data columns (total 4 columns):\n",
      " #   Column                            Non-Null Count  Dtype  \n",
      "---  ------                            --------------  -----  \n",
      " 0   Country                           96 non-null     object \n",
      " 1   Year                              96 non-null     int64  \n",
      " 2   Life expectancy at birth (years)  96 non-null     float64\n",
      " 3   GDP                               96 non-null     float64\n",
      "dtypes: float64(2), int64(1), object(1)\n",
      "memory usage: 3.1+ KB\n"
     ]
    }
   ],
   "source": [
    "life_df.info()"
   ]
  },
  {
   "cell_type": "markdown",
   "metadata": {},
   "source": [
    "# Univariate Data Analysis"
   ]
  },
  {
   "cell_type": "code",
   "execution_count": 6,
   "metadata": {},
   "outputs": [
    {
     "data": {
      "text/html": [
       "<div>\n",
       "<style scoped>\n",
       "    .dataframe tbody tr th:only-of-type {\n",
       "        vertical-align: middle;\n",
       "    }\n",
       "\n",
       "    .dataframe tbody tr th {\n",
       "        vertical-align: top;\n",
       "    }\n",
       "\n",
       "    .dataframe thead th {\n",
       "        text-align: right;\n",
       "    }\n",
       "</style>\n",
       "<table border=\"1\" class=\"dataframe\">\n",
       "  <thead>\n",
       "    <tr style=\"text-align: right;\">\n",
       "      <th></th>\n",
       "      <th>Year</th>\n",
       "      <th>Life expectancy at birth (years)</th>\n",
       "      <th>GDP</th>\n",
       "    </tr>\n",
       "  </thead>\n",
       "  <tbody>\n",
       "    <tr>\n",
       "      <th>count</th>\n",
       "      <td>96.000000</td>\n",
       "      <td>96.000000</td>\n",
       "      <td>9.600000e+01</td>\n",
       "    </tr>\n",
       "    <tr>\n",
       "      <th>mean</th>\n",
       "      <td>2007.500000</td>\n",
       "      <td>72.789583</td>\n",
       "      <td>3.880499e+12</td>\n",
       "    </tr>\n",
       "    <tr>\n",
       "      <th>std</th>\n",
       "      <td>4.633971</td>\n",
       "      <td>10.672882</td>\n",
       "      <td>5.197561e+12</td>\n",
       "    </tr>\n",
       "    <tr>\n",
       "      <th>min</th>\n",
       "      <td>2000.000000</td>\n",
       "      <td>44.300000</td>\n",
       "      <td>4.415703e+09</td>\n",
       "    </tr>\n",
       "    <tr>\n",
       "      <th>25%</th>\n",
       "      <td>2003.750000</td>\n",
       "      <td>74.475000</td>\n",
       "      <td>1.733018e+11</td>\n",
       "    </tr>\n",
       "    <tr>\n",
       "      <th>50%</th>\n",
       "      <td>2007.500000</td>\n",
       "      <td>76.750000</td>\n",
       "      <td>1.280220e+12</td>\n",
       "    </tr>\n",
       "    <tr>\n",
       "      <th>75%</th>\n",
       "      <td>2011.250000</td>\n",
       "      <td>78.900000</td>\n",
       "      <td>4.067510e+12</td>\n",
       "    </tr>\n",
       "    <tr>\n",
       "      <th>max</th>\n",
       "      <td>2015.000000</td>\n",
       "      <td>81.000000</td>\n",
       "      <td>1.810000e+13</td>\n",
       "    </tr>\n",
       "  </tbody>\n",
       "</table>\n",
       "</div>"
      ],
      "text/plain": [
       "              Year  Life expectancy at birth (years)           GDP\n",
       "count    96.000000                         96.000000  9.600000e+01\n",
       "mean   2007.500000                         72.789583  3.880499e+12\n",
       "std       4.633971                         10.672882  5.197561e+12\n",
       "min    2000.000000                         44.300000  4.415703e+09\n",
       "25%    2003.750000                         74.475000  1.733018e+11\n",
       "50%    2007.500000                         76.750000  1.280220e+12\n",
       "75%    2011.250000                         78.900000  4.067510e+12\n",
       "max    2015.000000                         81.000000  1.810000e+13"
      ]
     },
     "execution_count": 6,
     "metadata": {},
     "output_type": "execute_result"
    }
   ],
   "source": [
    "life_df.describe()"
   ]
  },
  {
   "cell_type": "markdown",
   "metadata": {},
   "source": [
    "### From the Summary Statistics above:\n",
    "\n",
    "The dataset contains 96 entries across three key variables: `Year`, `Life expectancy at birth (years)`, and `GDP`. Below are the main observations from the summary statistics:\n",
    "\n",
    "- **Year**:\n",
    "  - The dataset spans from **2000 to 2015**, as indicated by the minimum and maximum values.\n",
    "  - The **mean year** is 2007.5, suggesting the dataset is evenly distributed across the 16 years.\n",
    "  \n",
    "- **Life expectancy at birth (years)**:\n",
    "  - The average life expectancy across all countries and years is **72.79 years**, with a standard deviation of **10.67 years**.\n",
    "  - The range is significant, from a minimum of **44.3 years** to a maximum of **81 years**, indicating disparities in life expectancy.\n",
    "    Disparities meaning that some populations experience much shorter lives (44.3 years) compared to others who live substantially longer (81 years).\n",
    "  - The quartiles reveal that:\n",
    "    - 50% of the data lies between **74.48 and 78.9 years**, which is relatively high.\n",
    "    \n",
    "- **GDP**:\n",
    "  - The average GDP is approximately **3.88 trillion USD**, with a large standard deviation (**5.20 trillion USD**), highlighting significant differences between countries.\n",
    "  - The range is wide, from a minimum of **4.42 billion USD** to a maximum of **18.1 trillion USD**.\n",
    "  - Quartiles show that:\n",
    "    - 25% of the data has GDPs below **173.3 billion USD**.\n",
    "    - 50% (median) has GDPs below **1.28 trillion USD**, indicating that most countries have significantly lower GDPs compared to wealthier nations.\n",
    "\n",
    "### General Observations\n",
    "1. The dataset is balanced in terms of years (2000–2015), making it suitable for time-series analysis.\n",
    "2. There is significant variability in both GDP and life expectancy, indicating potential disparities among countries.\n",
    "3. The relationship between GDP and life expectancy might show trends of wealthier countries generally having higher life expectancy, but this needs further analysis.\n"
   ]
  },
  {
   "cell_type": "code",
   "execution_count": 14,
   "metadata": {},
   "outputs": [
    {
     "data": {
      "text/plain": [
       "Text(0.5, 1.0, 'Count of Various Countries')"
      ]
     },
     "execution_count": 14,
     "metadata": {},
     "output_type": "execute_result"
    },
    {
     "data": {
      "image/png": "[encoded data removed]",
      "text/plain": [
       "<Figure size 720x720 with 1 Axes>"
      ]
     },
     "metadata": {
      "needs_background": "light"
     },
     "output_type": "display_data"
    }
   ],
   "source": [
    "#Univariate analysis on the country column\n",
    "plt.figure(figsize=(10,10))\n",
    "sns.countplot(data=life_df,x=\"Country\")\n",
    "plt.title(\"Count of Various Countries\")\n"
   ]
  },
  {
   "cell_type": "markdown",
   "metadata": {},
   "source": [
    "### Data Distribution Across Countries\n",
    "\n",
    "The countplot above shows that each country in the dataset has an **equal number of records**. This indicates a **balanced dataset** in terms of country representation, meaning:\n",
    "- Each country contributes the same amount of data points.\n",
    "- There are no missing or extra records for any specific country.\n",
    "\n",
    "This is important because it ensures that no country is overrepresented or underrepresented when performing **comparative analysis** on GDP and life expectancy trends.\n"
   ]
  },
  {
   "cell_type": "code",
   "execution_count": 30,
   "metadata": {},
   "outputs": [
    {
     "data": {
      "text/plain": [
       "Text(0.5, 1.0, 'Count of Year')"
      ]
     },
     "execution_count": 30,
     "metadata": {},
     "output_type": "execute_result"
    },
    {
     "data": {
      "image/png": "[encoded data removed]",
      "text/plain": [
       "<Figure size 720x360 with 1 Axes>"
      ]
     },
     "metadata": {
      "needs_background": "light"
     },
     "output_type": "display_data"
    }
   ],
   "source": [
    "#Univariate analysis for Year\n",
    "plt.figure(figsize=(10,5))\n",
    "sns.countplot(data=life_df,x=\"Year\",color=\"steelblue\")\n",
    "plt.title(\"Count of Year\")"
   ]
  },
  {
   "cell_type": "markdown",
   "metadata": {},
   "source": [
    "This consistency ensures that **each year contributes equally to trend analysis**, making the dataset well-suited for time-series modeling."
   ]
  },
  {
   "cell_type": "code",
   "execution_count": 37,
   "metadata": {},
   "outputs": [
    {
     "data": {
      "text/plain": [
       "Text(0.5, 1.0, 'Distribution of Life expectancy at birth (years)')"
      ]
     },
     "execution_count": 37,
     "metadata": {},
     "output_type": "execute_result"
    },
    {
     "data": {
      "image/png": "[encoded data removed]",
      "text/plain": [
       "<Figure size 720x360 with 1 Axes>"
      ]
     },
     "metadata": {
      "needs_background": "light"
     },
     "output_type": "display_data"
    }
   ],
   "source": [
    "#Univariate analysis for life expectancy\n",
    "plt.figure(figsize=(10,5))\n",
    "sns.histplot(life_df[\"Life expectancy at birth (years)\"],color=\"green\",bins=50)\n",
    "plt.title(\"Distribution of Life expectancy at birth (years)\")\n"
   ]
  },
  {
   "cell_type": "markdown",
   "metadata": {},
   "source": [
    "The histogram above shows the distribution of **life expectancy** across different countries and years. Key observations include:\n",
    "\n",
    "- The distribution is **right-skewed**, indicating that most countries have a **high life expectancy**, while fewer countries have **low life expectancy**.\n",
    "- A **noticeable gap in the middle** suggests that the dataset has **fewer observations in that region**."
   ]
  },
  {
   "cell_type": "code",
   "execution_count": 44,
   "metadata": {},
   "outputs": [
    {
     "data": {
      "text/plain": [
       "Text(0.5, 1.0, 'Distribution of Life Expectancy(Outlier Check)')"
      ]
     },
     "execution_count": 44,
     "metadata": {},
     "output_type": "execute_result"
    },
    {
     "data": {
      "image/png": "[encoded data removed]",
      "text/plain": [
       "<Figure size 720x360 with 1 Axes>"
      ]
     },
     "metadata": {
      "needs_background": "light"
     },
     "output_type": "display_data"
    }
   ],
   "source": [
    "#Boxplot of Life expentancy (Check for Outliers)\n",
    "plt.figure(figsize=(10,5))\n",
    "sns.boxplot(x=life_df[\"Life expectancy at birth (years)\"],color=\"lightblue\")\n",
    "plt.title(\"Distribution of Life Expectancy(Outlier Check)\")"
   ]
  },
  {
   "cell_type": "markdown",
   "metadata": {},
   "source": [
    "### Life Expectancy Boxplot Analysis\n",
    "\n",
    "The boxplot above provides a visual summary of **life expectancy** across different countries:\n",
    "\n",
    "- **Most countries have a high life expectancy**, as seen from the box being positioned in the **upper range**.\n",
    "- There are **numerous outliers on the lower end**, representing countries with **significantly lower life expectancies**.\n",
    "- The skewed distribution suggests **global disparities in life expectancy**, where most countries have high values, but a small subset experiences much lower longevity."
   ]
  },
  {
   "cell_type": "code",
   "execution_count": 39,
   "metadata": {},
   "outputs": [
    {
     "data": {
      "text/plain": [
       "Text(0.5, 1.0, 'Distribution of GDP')"
      ]
     },
     "execution_count": 39,
     "metadata": {},
     "output_type": "execute_result"
    },
    {
     "data": {
      "image/png": "[encoded data removed]",
      "text/plain": [
       "<Figure size 720x360 with 1 Axes>"
      ]
     },
     "metadata": {
      "needs_background": "light"
     },
     "output_type": "display_data"
    }
   ],
   "source": [
    "#Univariate analysis for GDP\n",
    "plt.figure(figsize=(10,5))\n",
    "sns.histplot(life_df[\"GDP\"],kde=False,bins=40)\n",
    "plt.title(\"Distribution of GDP\")"
   ]
  },
  {
   "cell_type": "code",
   "execution_count": 46,
   "metadata": {},
   "outputs": [
    {
     "data": {
      "text/plain": [
       "Text(0.5, 1.0, 'Distribution of GDP(Outlier Check)')"
      ]
     },
     "execution_count": 46,
     "metadata": {},
     "output_type": "execute_result"
    },
    {
     "data": {
      "image/png": "[encoded data removed]",
      "text/plain": [
       "<Figure size 720x360 with 1 Axes>"
      ]
     },
     "metadata": {
      "needs_background": "light"
     },
     "output_type": "display_data"
    }
   ],
   "source": [
    "#Boxplot for GDP\n",
    "plt.figure(figsize=(10,5))\n",
    "sns.boxplot(x=life_df[\"GDP\"],color=\"lightgreen\")\n",
    "plt.title(\"Distribution of GDP(Outlier Check)\")"
   ]
  },
  {
   "cell_type": "markdown",
   "metadata": {},
   "source": [
    "### GDP Boxplot Analysis\n",
    "\n",
    "The boxplot above illustrates the distribution of **GDP** across countries. Key observations:\n",
    "\n",
    "- **The distribution is highly right-skewed**, indicating that a **small number of countries have extremely high GDP**.\n",
    "- The **majority of GDP values are clustered in the lower range**, as the median is positioned closer to the lower quartile.\n",
    "- **Numerous outliers on the upper end** suggest that a few **high-income nations significantly drive up global GDP**, while most countries have much lower values.\n",
    "- This highlights the **economic disparities** between developed and developing nations."
   ]
  },
  {
   "cell_type": "markdown",
   "metadata": {},
   "source": [
    "# Further Univariate Analysis"
   ]
  },
  {
   "cell_type": "markdown",
   "metadata": {},
   "source": [
    "### Addressing Skewness in Life Expectancy and GDP\n",
    "\n",
    "Both **life expectancy** and **GDP** exhibit a **right-skewed distribution**, meaning most values are clustered at the lower end, with a few extremely high values pulling the distribution to the right.  \n",
    "\n",
    "To improve interpretability and achieve a more **normalized distribution**, we apply a **log transformation**. This helps in:  \n",
    "- **Reducing skewness** for better visualization.  \n",
    "- **Enhancing comparability** across different values.  \n",
    "- **Highlighting patterns** that may not be visible in the original scale.\n",
    "\n",
    "We will now analyze the transformed distributions to observe any improvements in data representation.\n"
   ]
  },
  {
   "cell_type": "code",
   "execution_count": 56,
   "metadata": {},
   "outputs": [
    {
     "data": {
      "image/png": "[encoded data removed]",
      "text/plain": [
       "<Figure size 720x360 with 1 Axes>"
      ]
     },
     "metadata": {
      "needs_background": "light"
     },
     "output_type": "display_data"
    }
   ],
   "source": [
    "#Applying log transformations to  GDP \n",
    "life_df[\"Log_GDP\"] = np.log10(life_df[\"GDP\"])\n",
    "\n",
    "plt.figure(figsize=(10,5))\n",
    "sns.histplot(life_df[\"Log_GDP\"],kde=False,bins=20,color=\"blue\")\n",
    "plt.title(\"Distribution of Log-Transformed GDP\")\n",
    "plt.show()"
   ]
  },
  {
   "cell_type": "markdown",
   "metadata": {},
   "source": [
    "### Log Transformation of GDP\n",
    "\n",
    "The histogram above represents **log10-transformed GDP values**, helping to normalize the original right-skewed distribution. Key insights:\n",
    "\n",
    "- **The transformation reduces skewness**, making GDP differences across countries easier to compare.\n",
    "- **Extremely high GDP values are compressed**, revealing patterns among lower and mid-range GDP countries that were previously overshadowed.\n",
    "- The presence of **gaps in the distribution** suggests economic groupings, possibly reflecting divisions between low-income, middle-income, and high-income nations.\n",
    "\n",
    "This transformation ensures that GDP variations are more evenly distributed and suitable for further analysis.\n"
   ]
  },
  {
   "cell_type": "code",
   "execution_count": null,
   "metadata": {},
   "outputs": [],
   "source": []
  },
  {
   "cell_type": "code",
   "execution_count": null,
   "metadata": {},
   "outputs": [],
   "source": []
  }
 ],
 "metadata": {
  "kernelspec": {
   "display_name": "Python 3 (ipykernel)",
   "language": "python",
   "name": "python3"
  },
  "language_info": {
   "codemirror_mode": {
    "name": "ipython",
    "version": 3
   },
   "file_extension": ".py",
   "mimetype": "text/x-python",
   "name": "python",
   "nbconvert_exporter": "python",
   "pygments_lexer": "ipython3",
   "version": "3.9.12"
  }
 },
 "nbformat": 4,
 "nbformat_minor": 4
}
